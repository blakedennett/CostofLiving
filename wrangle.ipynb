{
 "cells": [
  {
   "cell_type": "code",
   "execution_count": 62,
   "metadata": {},
   "outputs": [],
   "source": [
    "import polars as pl\n",
    "import plotly as px"
   ]
  },
  {
   "cell_type": "code",
   "execution_count": 63,
   "metadata": {},
   "outputs": [],
   "source": [
    "apt = pl.read_csv(r'C:\\Users\\Blake Dennett\\Downloads\\CostOfLiving\\apartment.csv')\n",
    "car_sales = pl.read_csv(r'C:\\Users\\Blake Dennett\\Downloads\\CostOfLiving\\car_sales_tax.csv')\n",
    "food = pl.read_csv(r'C:\\Users\\Blake Dennett\\Downloads\\CostOfLiving\\food.csv')\n",
    "heal_ins = pl.read_csv(r'C:\\Users\\Blake Dennett\\Downloads\\CostOfLiving\\health_insurance.csv')\n",
    "sq_f = pl.read_csv(r'C:\\Users\\Blake Dennett\\Downloads\\CostOfLiving\\house_square_footage.csv')\n",
    "homes = pl.read_csv(r'C:\\Users\\Blake Dennett\\Downloads\\CostOfLiving\\houses.csv')\n",
    "income_tax = pl.read_csv(r'C:\\Users\\Blake Dennett\\Downloads\\CostOfLiving\\income_tax.csv')\n",
    "income = pl.read_csv(r'C:\\Users\\Blake Dennett\\Downloads\\CostOfLiving\\income.csv')\n",
    "auto = pl.read_csv(r'C:\\Users\\Blake Dennett\\Downloads\\CostOfLiving\\insurance.csv')\n",
    "sales_tax = pl.read_csv(r'C:\\Users\\Blake Dennett\\Downloads\\CostOfLiving\\sales_tax.csv')\n",
    "property_tax = pl.read_csv(r'C:\\Users\\Blake Dennett\\Downloads\\CostOfLiving\\property_tax.csv')"
   ]
  },
  {
   "cell_type": "code",
   "execution_count": 64,
   "metadata": {},
   "outputs": [
    {
     "data": {
      "text/html": [
       "<div><style>\n",
       ".dataframe > thead > tr > th,\n",
       ".dataframe > tbody > tr > td {\n",
       "  text-align: right;\n",
       "  white-space: pre-wrap;\n",
       "}\n",
       "</style>\n",
       "<small>shape: (3, 2)</small><table border=\"1\" class=\"dataframe\"><thead><tr><th>state</th><th>state_abbr</th></tr><tr><td>str</td><td>str</td></tr></thead><tbody><tr><td>&quot;Alaska&quot;</td><td>&quot;AK&quot;</td></tr><tr><td>&quot;Connecticut&quot;</td><td>&quot;CT&quot;</td></tr><tr><td>&quot;Iowa&quot;</td><td>&quot;IA&quot;</td></tr></tbody></table></div>"
      ],
      "text/plain": [
       "shape: (3, 2)\n",
       "┌─────────────┬────────────┐\n",
       "│ state       ┆ state_abbr │\n",
       "│ ---         ┆ ---        │\n",
       "│ str         ┆ str        │\n",
       "╞═════════════╪════════════╡\n",
       "│ Alaska      ┆ AK         │\n",
       "│ Connecticut ┆ CT         │\n",
       "│ Iowa        ┆ IA         │\n",
       "└─────────────┴────────────┘"
      ]
     },
     "execution_count": 64,
     "metadata": {},
     "output_type": "execute_result"
    }
   ],
   "source": [
    "names = pl.read_csv('https://raw.githubusercontent.com/blakedennett/LoanApprovalProject/main/data/fips2county.tsv', separator='\\t') \\\n",
    "        .select('StateName', 'StateAbbr') \\\n",
    "        .unique(subset=[\"StateName\",\"StateAbbr\"]) \\\n",
    "        .rename({'StateName':'state', 'StateAbbr':'state_abbr'})\n",
    "names.limit(3)"
   ]
  },
  {
   "cell_type": "code",
   "execution_count": 65,
   "metadata": {},
   "outputs": [
    {
     "name": "stdout",
     "output_type": "stream",
     "text": [
      "50\n"
     ]
    },
    {
     "data": {
      "text/html": [
       "<div><style>\n",
       ".dataframe > thead > tr > th,\n",
       ".dataframe > tbody > tr > td {\n",
       "  text-align: right;\n",
       "  white-space: pre-wrap;\n",
       "}\n",
       "</style>\n",
       "<small>shape: (3, 41)</small><table border=\"1\" class=\"dataframe\"><thead><tr><th>state</th><th>Average_Rent</th><th>Average_Apartment_Size</th><th>car_sales_tax</th><th>rank</th><th>score</th><th>health_insurance_yearly_avg</th><th>percent_adults_skipping_doctors</th><th>Rank</th><th>avg_home_sq_feet</th><th>median_home_price_per_square_foot</th><th>house_price</th><th>PayEffective</th><th>income_tax</th><th>RateRank</th><th>income_2021</th><th>2019</th><th>2018</th><th>2017</th><th>2016</th><th>2015</th><th>2014</th><th>2013</th><th>2012</th><th>2011</th><th>2010</th><th>avg_percent_change_10yrs</th><th>auto_insurance_full</th><th>auto_insurance_minimum</th><th>State_Tax_Rate</th><th>Rank_right</th><th>avg_sales_tax</th><th>Combined_Rate</th><th>Rank_duplicated_0</th><th>Max_Local_Tax_Rate</th><th>state_abbr</th><th>property_tax_rank</th><th>property_tax</th><th>annual_taxes_on_244.9K_home</th><th>state_median_home_value</th><th>annual_property_tax_median_value</th></tr><tr><td>str</td><td>i64</td><td>i64</td><td>f64</td><td>i64</td><td>f64</td><td>i64</td><td>f64</td><td>i64</td><td>i64</td><td>f64</td><td>i64</td><td>i64</td><td>f64</td><td>i64</td><td>i64</td><td>i64</td><td>i64</td><td>i64</td><td>i64</td><td>i64</td><td>i64</td><td>i64</td><td>i64</td><td>i64</td><td>i64</td><td>f64</td><td>i64</td><td>i64</td><td>f64</td><td>i64</td><td>f64</td><td>f64</td><td>i64</td><td>f64</td><td>str</td><td>i64</td><td>f64</td><td>i64</td><td>i64</td><td>i64</td></tr></thead><tbody><tr><td>&quot;Hawaii&quot;</td><td>2512</td><td>847</td><td>4.0</td><td>47</td><td>21.19</td><td>9593</td><td>7.1</td><td>50</td><td>1164</td><td>743.86</td><td>713000</td><td>57080</td><td>6.79</td><td>50</td><td>84857</td><td>83102</td><td>80212</td><td>77765</td><td>74511</td><td>73486</td><td>69592</td><td>68020</td><td>66259</td><td>61821</td><td>63030</td><td>2.77</td><td>1275</td><td>344</td><td>4.0</td><td>40</td><td>0.443</td><td>4.443</td><td>45</td><td>0.5</td><td>&quot;HI&quot;</td><td>1</td><td>0.29</td><td>700</td><td>662100</td><td>1893</td></tr><tr><td>&quot;Alabama&quot;</td><td>1251</td><td>986</td><td>2.0</td><td>28</td><td>49.21</td><td>8788</td><td>15.17</td><td>15</td><td>2146</td><td>155.82</td><td>286000</td><td>58572</td><td>4.66</td><td>32</td><td>53913</td><td>51734</td><td>49861</td><td>48123</td><td>46257</td><td>44765</td><td>42830</td><td>42849</td><td>41574</td><td>41415</td><td>40474</td><td>2.65</td><td>1843</td><td>441</td><td>4.0</td><td>40</td><td>5.237</td><td>9.237</td><td>5</td><td>7.5</td><td>&quot;AL&quot;</td><td>2</td><td>0.41</td><td>1007</td><td>157100</td><td>646</td></tr><tr><td>&quot;Colorado&quot;</td><td>1887</td><td>872</td><td>2.9</td><td>20</td><td>55.34</td><td>8289</td><td>11.27</td><td>2</td><td>2464</td><td>279.55</td><td>582000</td><td>59236</td><td>3.71</td><td>21</td><td>82254</td><td>77127</td><td>71953</td><td>69117</td><td>65685</td><td>63909</td><td>61303</td><td>58823</td><td>56765</td><td>55387</td><td>54046</td><td>3.9</td><td>2121</td><td>500</td><td>2.9</td><td>45</td><td>4.891</td><td>7.791</td><td>15</td><td>8.3</td><td>&quot;CO&quot;</td><td>3</td><td>0.51</td><td>1243</td><td>397500</td><td>2017</td></tr></tbody></table></div>"
      ],
      "text/plain": [
       "shape: (3, 41)\n",
       "┌──────────┬───────────┬───────────┬───────────┬───┬───────────┬───────────┬───────────┬───────────┐\n",
       "│ state    ┆ Average_R ┆ Average_A ┆ car_sales ┆ … ┆ property_ ┆ annual_ta ┆ state_med ┆ annual_pr │\n",
       "│ ---      ┆ ent       ┆ partment_ ┆ _tax      ┆   ┆ tax       ┆ xes_on_24 ┆ ian_home_ ┆ operty_ta │\n",
       "│ str      ┆ ---       ┆ Size      ┆ ---       ┆   ┆ ---       ┆ 4.9K_home ┆ value     ┆ x_median_ │\n",
       "│          ┆ i64       ┆ ---       ┆ f64       ┆   ┆ f64       ┆ ---       ┆ ---       ┆ value     │\n",
       "│          ┆           ┆ i64       ┆           ┆   ┆           ┆ i64       ┆ i64       ┆ ---       │\n",
       "│          ┆           ┆           ┆           ┆   ┆           ┆           ┆           ┆ i64       │\n",
       "╞══════════╪═══════════╪═══════════╪═══════════╪═══╪═══════════╪═══════════╪═══════════╪═══════════╡\n",
       "│ Hawaii   ┆ 2512      ┆ 847       ┆ 4.0       ┆ … ┆ 0.29      ┆ 700       ┆ 662100    ┆ 1893      │\n",
       "│ Alabama  ┆ 1251      ┆ 986       ┆ 2.0       ┆ … ┆ 0.41      ┆ 1007      ┆ 157100    ┆ 646       │\n",
       "│ Colorado ┆ 1887      ┆ 872       ┆ 2.9       ┆ … ┆ 0.51      ┆ 1243      ┆ 397500    ┆ 2017      │\n",
       "└──────────┴───────────┴───────────┴───────────┴───┴───────────┴───────────┴───────────┴───────────┘"
      ]
     },
     "execution_count": 65,
     "metadata": {},
     "output_type": "execute_result"
    }
   ],
   "source": [
    "df = apt.join(car_sales, on='state', how='inner') \\\n",
    "        .join(heal_ins, on='state', how='inner') \\\n",
    "        .join(sq_f, on='state', how='inner') \\\n",
    "        .join(homes, on='state', how='inner') \\\n",
    "        .join(income_tax, on='state', how='inner') \\\n",
    "        .join(income, on='state', how='inner') \\\n",
    "        .join(auto, on='state', how='inner') \\\n",
    "        .join(sales_tax, on='state', how='inner') \\\n",
    "        .join(names, on='state', how='inner') \\\n",
    "        .join(property_tax, on='state', how='inner')\n",
    "\n",
    "print(len(df))\n",
    "df.limit(3)"
   ]
  }
 ],
 "metadata": {
  "kernelspec": {
   "display_name": "Python 3",
   "language": "python",
   "name": "python3"
  },
  "language_info": {
   "codemirror_mode": {
    "name": "ipython",
    "version": 3
   },
   "file_extension": ".py",
   "mimetype": "text/x-python",
   "name": "python",
   "nbconvert_exporter": "python",
   "pygments_lexer": "ipython3",
   "version": "3.10.8"
  }
 },
 "nbformat": 4,
 "nbformat_minor": 2
}
